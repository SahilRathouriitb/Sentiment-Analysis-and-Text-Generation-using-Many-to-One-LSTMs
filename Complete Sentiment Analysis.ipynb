{
 "cells": [
  {
   "cell_type": "markdown",
   "metadata": {},
   "source": [
    "## Assignment\n",
    "Yeah ! Let's start with our actual project. In this assignment we will load the database and do preprocessing tasks.\n",
    "Ensure you have following packages installed\n",
    "1. numpy\n",
    "2. pandas  \n",
    "( Hope you are familiar with above two modules well )\n",
    "3. nltk (don't worry, we just need this to remove stopwords while preprocessing)\n",
    "4. tensorflow\n",
    "5. keras\n",
    "6. scikit-learn"
   ]
  },
  {
   "cell_type": "code",
   "execution_count": 1,
   "metadata": {},
   "outputs": [],
   "source": [
    "'''\n",
    "Importing essential libraries and functions\n",
    "'''\n",
    "import numpy as np\n",
    "import pandas as pd\n",
    "import re\n",
    "import nltk\n",
    "from nltk.corpus import stopwords\n",
    "import tensorflow as tf\n",
    "from sklearn.model_selection import train_test_split\n",
    "import io\n",
    "import json\n",
    "from nltk.tokenize import word_tokenize"
   ]
  },
  {
   "cell_type": "markdown",
   "metadata": {},
   "source": [
    "## 1. Loading the IMDB Reviews Dataset"
   ]
  },
  {
   "cell_type": "code",
   "execution_count": 2,
   "metadata": {},
   "outputs": [],
   "source": [
    "# TODO:\n",
    "df=pd.read_csv(\"C:\\IIT B\\IMDB Reviews Sentiment Analysis\\IMDB_Dataset.csv\")"
   ]
  },
  {
   "cell_type": "code",
   "execution_count": 3,
   "metadata": {},
   "outputs": [
    {
     "data": {
      "text/html": [
       "<div>\n",
       "<style scoped>\n",
       "    .dataframe tbody tr th:only-of-type {\n",
       "        vertical-align: middle;\n",
       "    }\n",
       "\n",
       "    .dataframe tbody tr th {\n",
       "        vertical-align: top;\n",
       "    }\n",
       "\n",
       "    .dataframe thead th {\n",
       "        text-align: right;\n",
       "    }\n",
       "</style>\n",
       "<table border=\"1\" class=\"dataframe\">\n",
       "  <thead>\n",
       "    <tr style=\"text-align: right;\">\n",
       "      <th></th>\n",
       "      <th>review</th>\n",
       "      <th>sentiment</th>\n",
       "    </tr>\n",
       "  </thead>\n",
       "  <tbody>\n",
       "    <tr>\n",
       "      <th>0</th>\n",
       "      <td>One of the other reviewers has mentioned that ...</td>\n",
       "      <td>positive</td>\n",
       "    </tr>\n",
       "    <tr>\n",
       "      <th>1</th>\n",
       "      <td>A wonderful little production. &lt;br /&gt;&lt;br /&gt;The...</td>\n",
       "      <td>positive</td>\n",
       "    </tr>\n",
       "    <tr>\n",
       "      <th>2</th>\n",
       "      <td>I thought this was a wonderful way to spend ti...</td>\n",
       "      <td>positive</td>\n",
       "    </tr>\n",
       "    <tr>\n",
       "      <th>3</th>\n",
       "      <td>Basically there's a family where a little boy ...</td>\n",
       "      <td>negative</td>\n",
       "    </tr>\n",
       "    <tr>\n",
       "      <th>4</th>\n",
       "      <td>Petter Mattei's \"Love in the Time of Money\" is...</td>\n",
       "      <td>positive</td>\n",
       "    </tr>\n",
       "    <tr>\n",
       "      <th>5</th>\n",
       "      <td>Probably my all-time favorite movie, a story o...</td>\n",
       "      <td>positive</td>\n",
       "    </tr>\n",
       "    <tr>\n",
       "      <th>6</th>\n",
       "      <td>I sure would like to see a resurrection of a u...</td>\n",
       "      <td>positive</td>\n",
       "    </tr>\n",
       "    <tr>\n",
       "      <th>7</th>\n",
       "      <td>This show was an amazing, fresh &amp; innovative i...</td>\n",
       "      <td>negative</td>\n",
       "    </tr>\n",
       "    <tr>\n",
       "      <th>8</th>\n",
       "      <td>Encouraged by the positive comments about this...</td>\n",
       "      <td>negative</td>\n",
       "    </tr>\n",
       "    <tr>\n",
       "      <th>9</th>\n",
       "      <td>If you like original gut wrenching laughter yo...</td>\n",
       "      <td>positive</td>\n",
       "    </tr>\n",
       "  </tbody>\n",
       "</table>\n",
       "</div>"
      ],
      "text/plain": [
       "                                              review sentiment\n",
       "0  One of the other reviewers has mentioned that ...  positive\n",
       "1  A wonderful little production. <br /><br />The...  positive\n",
       "2  I thought this was a wonderful way to spend ti...  positive\n",
       "3  Basically there's a family where a little boy ...  negative\n",
       "4  Petter Mattei's \"Love in the Time of Money\" is...  positive\n",
       "5  Probably my all-time favorite movie, a story o...  positive\n",
       "6  I sure would like to see a resurrection of a u...  positive\n",
       "7  This show was an amazing, fresh & innovative i...  negative\n",
       "8  Encouraged by the positive comments about this...  negative\n",
       "9  If you like original gut wrenching laughter yo...  positive"
      ]
     },
     "execution_count": 3,
     "metadata": {},
     "output_type": "execute_result"
    }
   ],
   "source": [
    "df.head(10)"
   ]
  },
  {
   "cell_type": "code",
   "execution_count": 4,
   "metadata": {},
   "outputs": [
    {
     "data": {
      "text/plain": [
       "'My friends and I were just discussing how frustrated we are with the way movies and especially romantic comedy\\'s are being made. We feel offended by the schlock that Hollywood is serving up these days as they act like all is well.<br /><br />Well all is not well...with the exception of a few bright spots, like this movie. It doesn\\'t have the big name actors, the big budget, I don\\'t think it had a big release (I rented from Hollywood Video) it didn\\'t really have anything that most big budget romantic comedy\\'s have.<br /><br />But it did have what most of those lack. It had great chemistry between the love interests, \"Parker\" (Jonathan Schaech) and \"Sam\" (Alison Eastwood). Their love story wasn\\'t forced on us like so many. The director took his time to allow these characters to truly get to know each other. Their story reminded me of one of my favorites, \"Tootsie\".<br /><br />The supporting cast added not only really funny comic moments, but depth to the story as well. James LeGros\\' character was absolutely priceless. Sam\\'s gay friend was hysterical. Parker\\'s interaction with his fellow employees in a Psychic Hotline was a lot of fun.<br /><br />I laughed, I cried, I remembered how great it feels to fall in love.'"
      ]
     },
     "execution_count": 4,
     "metadata": {},
     "output_type": "execute_result"
    }
   ],
   "source": [
    "df['review'][11212]"
   ]
  },
  {
   "cell_type": "code",
   "execution_count": 5,
   "metadata": {},
   "outputs": [
    {
     "data": {
      "text/plain": [
       "(50000, 2)"
      ]
     },
     "execution_count": 5,
     "metadata": {},
     "output_type": "execute_result"
    }
   ],
   "source": [
    "df.shape\n",
    "# 50000 rows and 2 columns"
   ]
  },
  {
   "cell_type": "code",
   "execution_count": 6,
   "metadata": {},
   "outputs": [
    {
     "data": {
      "text/plain": [
       "review       0\n",
       "sentiment    0\n",
       "dtype: int64"
      ]
     },
     "execution_count": 6,
     "metadata": {},
     "output_type": "execute_result"
    }
   ],
   "source": [
    "df.isnull().sum()\n",
    "# no missing data"
   ]
  },
  {
   "cell_type": "code",
   "execution_count": 7,
   "metadata": {},
   "outputs": [
    {
     "data": {
      "text/plain": [
       "sentiment\n",
       "positive    25000\n",
       "negative    25000\n",
       "Name: count, dtype: int64"
      ]
     },
     "execution_count": 7,
     "metadata": {},
     "output_type": "execute_result"
    }
   ],
   "source": [
    "df['sentiment'].value_counts()"
   ]
  },
  {
   "cell_type": "code",
   "execution_count": 8,
   "metadata": {},
   "outputs": [],
   "source": [
    "# From here we can see that the data is balanced i.e equal number of samples in both the categories"
   ]
  },
  {
   "cell_type": "markdown",
   "metadata": {},
   "source": [
    "## 2. Data Preprocessing"
   ]
  },
  {
   "cell_type": "code",
   "execution_count": 9,
   "metadata": {},
   "outputs": [
    {
     "data": {
      "text/plain": [
       "\"#TODO : Complete the function to preprocess the text data\\n\\ndef preprocessing(sentence):\\n    sentence=sentence.lower() # First make the sentence lowercase\\n    sentence=re.sub('<.*?>',' ',sentence) # Remove all html tags from the sentence i.e replace anything between <> with space\\n    sentence=re.sub(r'[^a-zA-Z0-9]',' ',sentence)     # Remove all special characters i.e. anything other than alphabets and numbers. Replace them with space\\n    sentence=re.sub(r'\\x08[a-zA-Z]\\x08',' ',sentence) # Remove all single characters i.e. a-z and A-Z and Replace them with space\\n    sentence=re.sub(r'\\\\s+',' ',sentence) # Remove all multiple spaces and replace them with single space\\n    # Use the nltk library to remove all stopwords from the sentence\\n    stop_words = set(stopwords.words('english'))\\n    sentence = word_tokenize(sentence)\\n    filtered_words = [i for i in sentence if i.lower() not in stop_words]\\n    cleaned_sentence = ' '.join(filtered_words)\\n    return cleaned_sentence\\n\""
      ]
     },
     "execution_count": 9,
     "metadata": {},
     "output_type": "execute_result"
    }
   ],
   "source": [
    "'''#TODO : Complete the function to preprocess the text data\n",
    "\n",
    "def preprocessing(sentence):\n",
    "    sentence=sentence.lower() # First make the sentence lowercase\n",
    "    sentence=re.sub('<.*?>',' ',sentence) # Remove all html tags from the sentence i.e replace anything between <> with space\n",
    "    sentence=re.sub(r'[^a-zA-Z0-9]',' ',sentence)     # Remove all special characters i.e. anything other than alphabets and numbers. Replace them with space\n",
    "    sentence=re.sub(r'\\b[a-zA-Z]\\b',' ',sentence) # Remove all single characters i.e. a-z and A-Z and Replace them with space\n",
    "    sentence=re.sub(r'\\s+',' ',sentence) # Remove all multiple spaces and replace them with single space\n",
    "    # Use the nltk library to remove all stopwords from the sentence\n",
    "    stop_words = set(stopwords.words('english'))\n",
    "    sentence = word_tokenize(sentence)\n",
    "    filtered_words = [i for i in sentence if i.lower() not in stop_words]\n",
    "    cleaned_sentence = ' '.join(filtered_words)\n",
    "    return cleaned_sentence\n",
    "'''"
   ]
  },
  {
   "cell_type": "code",
   "execution_count": 10,
   "metadata": {},
   "outputs": [],
   "source": [
    "def preprocessing(sentence):\n",
    "    sentence=sentence.lower()\n",
    "    sentence=re.sub('<.*?>',' ',sentence)  # th\n",
    "    sentence=re.sub(r'[^a-zA-Z0-9\\s]',' ',sentence)\n",
    "    #sentence=re.sub(r'\\s+',' ',sentence)\n",
    "\n",
    "    stop_words=stopwords.words('english')\n",
    "    sentence=word_tokenize(sentence)\n",
    "    l=[]\n",
    "    for i in sentence:\n",
    "        if i in stop_words:\n",
    "            l.append('')\n",
    "        else:\n",
    "            l.append(i)\n",
    "    cleaned_sentence=' '.join(l)\n",
    "    cleaned_sentence=re.sub(r'\\s+',' ',cleaned_sentence)\n",
    "    return cleaned_sentence"
   ]
  },
  {
   "cell_type": "code",
   "execution_count": 11,
   "metadata": {},
   "outputs": [
    {
     "name": "stdout",
     "output_type": "stream",
     "text": [
      "sahil boy\n"
     ]
    }
   ],
   "source": [
    "print(preprocessing('SAHIL IS A <****> BOY !?!'))"
   ]
  },
  {
   "cell_type": "code",
   "execution_count": 12,
   "metadata": {},
   "outputs": [],
   "source": [
    "# TODO :\n",
    "# Call the preprocessing function for each review in the dataframe and\n",
    "# save the results in a new list of preprocessed_reviews\n",
    "preprocessed_reviews=[]\n",
    "for i in range(0,df.shape[0]): # df.shape will give a tuple (rows,columns) , so from this picked up the number of rows \n",
    "    list=df['review'].tolist() # converted the review column to a list for east access \n",
    "    text=list[i]\n",
    "    text=preprocessing(text)\n",
    "    preprocessed_reviews.append(text)\n",
    "    \n",
    "# This list will be your input to the neural network\n",
    "# We will call this list as X from now on\n",
    "X=preprocessed_reviews"
   ]
  },
  {
   "cell_type": "code",
   "execution_count": 13,
   "metadata": {},
   "outputs": [
    {
     "name": "stderr",
     "output_type": "stream",
     "text": [
      "C:\\Users\\Sahil\\AppData\\Local\\Temp\\ipykernel_372\\364436640.py:3: FutureWarning: Downcasting behavior in `replace` is deprecated and will be removed in a future version. To retain the old behavior, explicitly call `result.infer_objects(copy=False)`. To opt-in to the future behavior, set `pd.set_option('future.no_silent_downcasting', True)`\n",
      "  df['sentiment']=df['sentiment'].replace({'positive':1,'negative':0})# Convert sentiment column in the dataframe to numbers\n"
     ]
    }
   ],
   "source": [
    "# TODO :\n",
    "\n",
    "df['sentiment']=df['sentiment'].replace({'positive':1,'negative':0})# Convert sentiment column in the dataframe to numbers\n",
    "y=np.array(df['sentiment'])# Convert positive to 1 and negative to 0 and store it in numpy array\n",
    "y=y.reshape(50000,1)\n",
    "# We will call this numpy array as y from now on"
   ]
  },
  {
   "cell_type": "code",
   "execution_count": 14,
   "metadata": {},
   "outputs": [],
   "source": [
    "# TODO : Split the data into training and testing (80-20 ratio)\n",
    "X_train,X_test,Y_train,Y_test=train_test_split(X,y,test_size=0.2,random_state=21)\n",
    "# The train set will be used to train our deep learning models \n",
    "# while test set will be used to evaluate how well our model performs "
   ]
  },
  {
   "cell_type": "code",
   "execution_count": 15,
   "metadata": {},
   "outputs": [],
   "source": [
    "Y_train_=Y_train.reshape(40000,)"
   ]
  },
  {
   "cell_type": "code",
   "execution_count": 16,
   "metadata": {},
   "outputs": [
    {
     "data": {
      "text/plain": [
       "'wow opinion net excellent nail biting edge seat techno thriller leave feeling good first saw feeling good days angela sandra bullock went mexico thought really nice place vacation moment jack jermey northam ruth wendy gazelle began chasing thought let anything bad happen please also took quite deep breaths prevent screaming already bright side ask house luxurious spacious conclusion give excellent nail biting edge seat techno thriller four stars'"
      ]
     },
     "execution_count": 16,
     "metadata": {},
     "output_type": "execute_result"
    }
   ],
   "source": [
    "X_train[10] # so you can see that this is how a review looks like post pre processing "
   ]
  },
  {
   "cell_type": "markdown",
   "metadata": {},
   "source": [
    "## lemmatization Noun +Verb"
   ]
  },
  {
   "cell_type": "code",
   "execution_count": 17,
   "metadata": {},
   "outputs": [],
   "source": [
    "import nltk\n",
    "from nltk.tokenize import word_tokenize\n",
    "from nltk.stem import WordNetLemmatizer\n",
    "\n",
    "# Function to tokenize and lemmatize a sentence without POS tagging\n",
    "def tokenize_and_lemmatize(text):\n",
    "    tokens = word_tokenize(text)\n",
    "    lemmatizer = WordNetLemmatizer()\n",
    "    lemmatized_tokens = [lemmatizer.lemmatize(token,pos='n') for token in tokens]\n",
    "    lemmatized_tokens = [lemmatizer.lemmatize(token,pos='v') for token in lemmatized_tokens]\n",
    "    return lemmatized_tokens\n"
   ]
  },
  {
   "cell_type": "code",
   "execution_count": 18,
   "metadata": {},
   "outputs": [
    {
     "name": "stdout",
     "output_type": "stream",
     "text": [
      "tokens post lemmatisation: ['sahil', 'good', 'boy', 'icecream', 'boy', 'play', 'play', 'play']\n"
     ]
    }
   ],
   "source": [
    "print('tokens post lemmatisation:',tokenize_and_lemmatize('sahil good boy icecream boys played plays play '))"
   ]
  },
  {
   "cell_type": "code",
   "execution_count": 19,
   "metadata": {},
   "outputs": [],
   "source": [
    "# so in this we have created a function to word tokenize the text first and then lemmatize it \n",
    "# so as you can see in the above example that we have given it a sample sentence and it has firstly word_tokenised it and then \n",
    "# it has passed it to lemmatizer word by word and we have saved it back in a list "
   ]
  },
  {
   "cell_type": "code",
   "execution_count": 20,
   "metadata": {},
   "outputs": [],
   "source": [
    "# Tokenize and lemmatize the text data\n",
    "X_train = [' '.join(tokenize_and_lemmatize(text)) for text in X_train]\n",
    "X_test = [' '.join(tokenize_and_lemmatize(text)) for text in X_test]"
   ]
  },
  {
   "cell_type": "code",
   "execution_count": 21,
   "metadata": {},
   "outputs": [
    {
     "data": {
      "text/plain": [
       "'wow opinion net excellent nail bite edge seat techno thriller leave feel good first saw feel good day angela sandra bullock go mexico think really nice place vacation moment jack jermey northam ruth wendy gazelle begin chase think let anything bad happen please also take quite deep breath prevent scream already bright side ask house luxurious spacious conclusion give excellent nail bite edge seat techno thriller four star'"
      ]
     },
     "execution_count": 21,
     "metadata": {},
     "output_type": "execute_result"
    }
   ],
   "source": [
    "X_train[10]"
   ]
  },
  {
   "cell_type": "markdown",
   "metadata": {},
   "source": [
    "# TOKENIZER"
   ]
  },
  {
   "cell_type": "code",
   "execution_count": 22,
   "metadata": {},
   "outputs": [],
   "source": [
    "from tensorflow.keras.preprocessing.text import Tokenizer\n",
    "# Initialize the Tokenizer\n",
    "tokenizer = Tokenizer(num_words=50000, oov_token='<OOV>')\n",
    "tokenizer.fit_on_texts(X_train)\n",
    "\n",
    "# Convert the text to sequences\n",
    "X_train_sequences = tokenizer.texts_to_sequences(X_train)\n",
    "X_test_sequences = tokenizer.texts_to_sequences(X_test)"
   ]
  },
  {
   "cell_type": "code",
   "execution_count": 23,
   "metadata": {},
   "outputs": [
    {
     "name": "stdout",
     "output_type": "stream",
     "text": [
      "Vocabulary size: 50000\n"
     ]
    }
   ],
   "source": [
    "# Check the vocabulary size after applying num_words\n",
    "vocab_size = min(len(tokenizer.word_index) + 1, tokenizer.num_words)\n",
    "print(f\"Vocabulary size: {vocab_size}\")"
   ]
  },
  {
   "cell_type": "code",
   "execution_count": 24,
   "metadata": {},
   "outputs": [
    {
     "data": {
      "text/plain": [
       "'\\nvocab_size = len(tokenizer.word_index)\\nvocab_size\\n'"
      ]
     },
     "execution_count": 24,
     "metadata": {},
     "output_type": "execute_result"
    }
   ],
   "source": [
    "'''\n",
    "vocab_size = len(tokenizer.word_index)\n",
    "vocab_size\n",
    "'''"
   ]
  },
  {
   "cell_type": "code",
   "execution_count": 25,
   "metadata": {},
   "outputs": [
    {
     "data": {
      "text/plain": [
       "68"
      ]
     },
     "execution_count": 25,
     "metadata": {},
     "output_type": "execute_result"
    }
   ],
   "source": [
    "len(X_train_sequences[10])"
   ]
  },
  {
   "cell_type": "code",
   "execution_count": 26,
   "metadata": {},
   "outputs": [
    {
     "data": {
      "text/plain": [
       "[1170,\n",
       " 478,\n",
       " 3747,\n",
       " 237,\n",
       " 2073,\n",
       " 104,\n",
       " 968,\n",
       " 1418,\n",
       " 6852,\n",
       " 502,\n",
       " 101,\n",
       " 60,\n",
       " 10,\n",
       " 33,\n",
       " 127,\n",
       " 60,\n",
       " 10,\n",
       " 90,\n",
       " 3271,\n",
       " 2836,\n",
       " 3811,\n",
       " 13,\n",
       " 2558,\n",
       " 16,\n",
       " 18,\n",
       " 257,\n",
       " 140,\n",
       " 2108,\n",
       " 162,\n",
       " 543,\n",
       " 35309,\n",
       " 8042,\n",
       " 3555,\n",
       " 4637,\n",
       " 25149,\n",
       " 132,\n",
       " 619,\n",
       " 16,\n",
       " 158,\n",
       " 148,\n",
       " 27,\n",
       " 105,\n",
       " 423,\n",
       " 30,\n",
       " 35,\n",
       " 100,\n",
       " 713,\n",
       " 2377,\n",
       " 2118,\n",
       " 814,\n",
       " 391,\n",
       " 1626,\n",
       " 335,\n",
       " 357,\n",
       " 215,\n",
       " 10944,\n",
       " 17210,\n",
       " 1006,\n",
       " 34,\n",
       " 237,\n",
       " 2073,\n",
       " 104,\n",
       " 968,\n",
       " 1418,\n",
       " 6852,\n",
       " 502,\n",
       " 526,\n",
       " 74]"
      ]
     },
     "execution_count": 26,
     "metadata": {},
     "output_type": "execute_result"
    }
   ],
   "source": [
    "X_train_sequences[10]"
   ]
  },
  {
   "cell_type": "code",
   "execution_count": 27,
   "metadata": {},
   "outputs": [
    {
     "data": {
      "text/plain": [
       "'\\ntokenizer = Tokenizer(num_words=10000, oov_token=\\'<OOV>\\')\\ntokenizer.fit_on_texts([\"sahil good boy play play icecream\",\\'sahil like mango icecream tasy good sweet\\'])\\n\\nsequences= tokenizer.texts_to_sequences([\"sahil good boy play play icecream\",\\'sahil like mango icecream tasy good sweet\\'])\\nsequences '"
      ]
     },
     "execution_count": 27,
     "metadata": {},
     "output_type": "execute_result"
    }
   ],
   "source": [
    "'''\n",
    "tokenizer = Tokenizer(num_words=10000, oov_token='<OOV>')\n",
    "tokenizer.fit_on_texts([\"sahil good boy play play icecream\",'sahil like mango icecream tasy good sweet'])\n",
    "\n",
    "sequences= tokenizer.texts_to_sequences([\"sahil good boy play play icecream\",'sahil like mango icecream tasy good sweet'])\n",
    "sequences '''"
   ]
  },
  {
   "cell_type": "markdown",
   "metadata": {},
   "source": [
    "#### Padding"
   ]
  },
  {
   "cell_type": "code",
   "execution_count": 28,
   "metadata": {},
   "outputs": [
    {
     "name": "stdout",
     "output_type": "stream",
     "text": [
      "119.599175\n"
     ]
    }
   ],
   "source": [
    "# let us figure out the average length of words in the reviews of X_train\n",
    "l=len(X_train_sequences)\n",
    "b=0\n",
    "for i in X_train_sequences:\n",
    "   b=b+len(i)\n",
    "\n",
    "print(b/l)\n",
    "#so at an average a review has got 119 words "
   ]
  },
  {
   "cell_type": "code",
   "execution_count": 29,
   "metadata": {},
   "outputs": [
    {
     "data": {
      "text/plain": [
       "[3440,\n",
       " 3132,\n",
       " 12658,\n",
       " 1685,\n",
       " 502,\n",
       " 65,\n",
       " 2282,\n",
       " 2226,\n",
       " 1076,\n",
       " 4410,\n",
       " 1148,\n",
       " 398,\n",
       " 78,\n",
       " 11,\n",
       " 263,\n",
       " 208,\n",
       " 1275,\n",
       " 4636,\n",
       " 100,\n",
       " 10,\n",
       " 10528,\n",
       " 1488,\n",
       " 5,\n",
       " 17208,\n",
       " 6183,\n",
       " 652,\n",
       " 371]"
      ]
     },
     "execution_count": 29,
     "metadata": {},
     "output_type": "execute_result"
    }
   ],
   "source": [
    "X_train_sequences[0]"
   ]
  },
  {
   "cell_type": "code",
   "execution_count": 30,
   "metadata": {},
   "outputs": [],
   "source": [
    "# Padding all reviews to be of same length 'maxlen' words\n",
    "maxlen = 120\n",
    "# You can try different dimensions like 50, 100, 200 and 300\n",
    "# and see how the model performs in next week\n",
    "from tensorflow.keras.preprocessing.sequence import pad_sequences\n",
    "# TODO: Pad the training data sequences\n",
    "X_train_pad=pad_sequences(X_train_sequences,padding='post',maxlen=maxlen)\n",
    "# Hint: Use pad_sequences with 'post' padding and maxlen=maxlen\n",
    "\n",
    "# TODO: Pad the test data sequences\n",
    "X_test_pad=pad_sequences(X_test_sequences,padding='post',maxlen=maxlen)\n",
    "# Hint: Use pad_sequences with 'post' padding and maxlen=maxlen"
   ]
  },
  {
   "cell_type": "code",
   "execution_count": 31,
   "metadata": {},
   "outputs": [
    {
     "data": {
      "text/plain": [
       "array([[ 3440,  3132, 12658, ...,     0,     0,     0],\n",
       "       [ 8158,     3,  1091, ...,    40,  2144,     9],\n",
       "       [   10,   327,    97, ...,     0,     0,     0],\n",
       "       ...,\n",
       "       [  237,     3,  8175, ...,     0,     0,     0],\n",
       "       [  255,   134,   287, ...,  2193,   216,     0],\n",
       "       [   33,   229,     2, ...,     0,     0,     0]])"
      ]
     },
     "execution_count": 31,
     "metadata": {},
     "output_type": "execute_result"
    }
   ],
   "source": [
    "X_train_pad"
   ]
  },
  {
   "cell_type": "markdown",
   "metadata": {},
   "source": [
    "# Glove Embedding"
   ]
  },
  {
   "cell_type": "code",
   "execution_count": 32,
   "metadata": {},
   "outputs": [
    {
     "data": {
      "text/plain": [
       "50000"
      ]
     },
     "execution_count": 32,
     "metadata": {},
     "output_type": "execute_result"
    }
   ],
   "source": [
    "vocab_size # this is total size of the vocabulary , i.e the total number of unique words in the corpus\n",
    "# remember the fact that we limited it to 30k , even though we have a total of 74k words in the corpus!!"
   ]
  },
  {
   "cell_type": "code",
   "execution_count": 33,
   "metadata": {},
   "outputs": [],
   "source": [
    "\n",
    "# Initialize an empty dictionary for embeddings\n",
    "embeddings_dictionary = dict()\n",
    "\n",
    "# Open the GloVe file (a2_glove.6B.100d.txt) with utf-8 encoding\n",
    "glove_file = open(\"C:\\IIT B\\IMDB Reviews Sentiment Analysis\\glove_embeddings.txt\", encoding=\"utf8\")\n",
    "\n",
    "for line in glove_file:\n",
    "    records = line.split()\n",
    "    word = records[0]\n",
    "    vector_dimensions = np.asarray(records[1:], dtype='float32')\n",
    "    embeddings_dictionary [word] = vector_dimensions\n",
    "glove_file.close()\n"
   ]
  },
  {
   "cell_type": "code",
   "execution_count": 35,
   "metadata": {},
   "outputs": [],
   "source": [
    "# EMBEDDING MATRIX\n",
    "vocab_size = min(len(tokenizer.word_index) + 1, tokenizer.num_words)\n",
    "top_words = {word: index for word, index in tokenizer.word_index.items() if index < vocab_size}\n",
    "\n",
    "embedding_matrix = np.zeros((vocab_size, 100))\n",
    "for word, index in top_words.items():\n",
    "    embedding_vector = embeddings_dictionary.get(word)\n",
    "    if embedding_vector is not None:\n",
    "        embedding_matrix[index] = embedding_vector\n"
   ]
  },
  {
   "cell_type": "code",
   "execution_count": 38,
   "metadata": {
    "scrolled": true
   },
   "outputs": [
    {
     "data": {
      "text/plain": [
       "{'<OOV>': 1,\n",
       " 'movie': 2,\n",
       " 'film': 3,\n",
       " 'one': 4,\n",
       " 'make': 5,\n",
       " 'like': 6,\n",
       " 'see': 7,\n",
       " 'get': 8,\n",
       " 'time': 9,\n",
       " 'good': 10,\n",
       " 'character': 11,\n",
       " 'watch': 12,\n",
       " 'go': 13,\n",
       " 'even': 14,\n",
       " 'story': 15,\n",
       " 'think': 16,\n",
       " 'would': 17,\n",
       " 'really': 18,\n",
       " 'show': 19,\n",
       " 'well': 20,\n",
       " 'scene': 21,\n",
       " 'look': 22,\n",
       " 'much': 23,\n",
       " 'know': 24,\n",
       " 'say': 25,\n",
       " 'end': 26,\n",
       " 'bad': 27,\n",
       " 'people': 28,\n",
       " 'great': 29,\n",
       " 'also': 30,\n",
       " 'love': 31,\n",
       " 'act': 32,\n",
       " 'first': 33,\n",
       " 'give': 34,\n",
       " 'take': 35,\n",
       " 'play': 36,\n",
       " 'way': 37,\n",
       " 'come': 38,\n",
       " 'thing': 39,\n",
       " 'find': 40,\n",
       " 'life': 41,\n",
       " 'could': 42,\n",
       " 'seem': 43,\n",
       " 'work': 44,\n",
       " 'actor': 45,\n",
       " 'plot': 46,\n",
       " 'two': 47,\n",
       " 'many': 48,\n",
       " 'year': 49,\n",
       " 'want': 50,\n",
       " 'never': 51,\n",
       " 'best': 52,\n",
       " 'try': 53,\n",
       " 'little': 54,\n",
       " 'ever': 55,\n",
       " 'man': 56,\n",
       " 'better': 57,\n",
       " 'still': 58,\n",
       " 'part': 59,\n",
       " 'feel': 60,\n",
       " 'something': 61,\n",
       " 'back': 62,\n",
       " 'director': 63,\n",
       " 'lot': 64,\n",
       " 'interest': 65,\n",
       " 'real': 66,\n",
       " 'performance': 67,\n",
       " 'guy': 68,\n",
       " 'use': 69,\n",
       " 'woman': 70,\n",
       " 'cast': 71,\n",
       " 'funny': 72,\n",
       " 'old': 73,\n",
       " 'star': 74,\n",
       " 'though': 75,\n",
       " 'another': 76,\n",
       " '10': 77,\n",
       " 'role': 78,\n",
       " 'actually': 79,\n",
       " 'nothing': 80,\n",
       " 'u': 81,\n",
       " 'tell': 82,\n",
       " 'write': 83,\n",
       " 'shoot': 84,\n",
       " 'start': 85,\n",
       " 'set': 86,\n",
       " 'point': 87,\n",
       " 'new': 88,\n",
       " 'every': 89,\n",
       " 'day': 90,\n",
       " 'world': 91,\n",
       " 'girl': 92,\n",
       " 'turn': 93,\n",
       " 'become': 94,\n",
       " 'horror': 95,\n",
       " 'kill': 96,\n",
       " 'comedy': 97,\n",
       " 'minute': 98,\n",
       " 'fact': 99,\n",
       " 'quite': 100,\n",
       " 'leave': 101,\n",
       " 'action': 102,\n",
       " 'pretty': 103,\n",
       " 'bite': 104,\n",
       " 'happen': 105,\n",
       " 'young': 106,\n",
       " 'around': 107,\n",
       " 'long': 108,\n",
       " 'mean': 109,\n",
       " 'big': 110,\n",
       " 'however': 111,\n",
       " 'enough': 112,\n",
       " 'right': 113,\n",
       " 'fan': 114,\n",
       " 'line': 115,\n",
       " 'may': 116,\n",
       " 'friend': 117,\n",
       " 'need': 118,\n",
       " 'script': 119,\n",
       " 'series': 120,\n",
       " 'enjoy': 121,\n",
       " 'must': 122,\n",
       " 'music': 123,\n",
       " 'without': 124,\n",
       " 'keep': 125,\n",
       " 'original': 126,\n",
       " 'saw': 127,\n",
       " 'almost': 128,\n",
       " 'always': 129,\n",
       " 'kid': 130,\n",
       " 'family': 131,\n",
       " 'begin': 132,\n",
       " 'do': 133,\n",
       " 'put': 134,\n",
       " 'whole': 135,\n",
       " 'least': 136,\n",
       " 'lead': 137,\n",
       " 'laugh': 138,\n",
       " 'last': 139,\n",
       " 'place': 140,\n",
       " 'far': 141,\n",
       " 'kind': 142,\n",
       " '2': 143,\n",
       " 'effect': 144,\n",
       " 'live': 145,\n",
       " 'run': 146,\n",
       " 'reason': 147,\n",
       " 'anything': 148,\n",
       " 'might': 149,\n",
       " 'since': 150,\n",
       " 'tv': 151,\n",
       " 'call': 152,\n",
       " 'name': 153,\n",
       " 'book': 154,\n",
       " 'screen': 155,\n",
       " 'believe': 156,\n",
       " 'probably': 157,\n",
       " 'let': 158,\n",
       " 'yet': 159,\n",
       " 'child': 160,\n",
       " 'away': 161,\n",
       " 'moment': 162,\n",
       " 'anyone': 163,\n",
       " 'fun': 164,\n",
       " 'read': 165,\n",
       " 'help': 166,\n",
       " 'worst': 167,\n",
       " 'rather': 168,\n",
       " 'sure': 169,\n",
       " 'american': 170,\n",
       " 'hard': 171,\n",
       " 'idea': 172,\n",
       " 'audience': 173,\n",
       " 'dvd': 174,\n",
       " 'war': 175,\n",
       " 'although': 176,\n",
       " 'expect': 177,\n",
       " 'especially': 178,\n",
       " 'bore': 179,\n",
       " 'course': 180,\n",
       " 'episode': 181,\n",
       " 'job': 182,\n",
       " 'bring': 183,\n",
       " 'move': 184,\n",
       " 'everything': 185,\n",
       " 'different': 186,\n",
       " 'mind': 187,\n",
       " 'maybe': 188,\n",
       " 'three': 189,\n",
       " 'worth': 190,\n",
       " 'someone': 191,\n",
       " 'sense': 192,\n",
       " 'sound': 193,\n",
       " 'face': 194,\n",
       " 'main': 195,\n",
       " 'boy': 196,\n",
       " 'direct': 197,\n",
       " 'problem': 198,\n",
       " 'money': 199,\n",
       " 'second': 200,\n",
       " 'everyone': 201,\n",
       " 'version': 202,\n",
       " 'night': 203,\n",
       " 'lose': 204,\n",
       " 'true': 205,\n",
       " 'together': 206,\n",
       " 'recommend': 207,\n",
       " 'eye': 208,\n",
       " 'view': 209,\n",
       " 'understand': 210,\n",
       " 'follow': 211,\n",
       " 'high': 212,\n",
       " 'instead': 213,\n",
       " 'black': 214,\n",
       " 'house': 215,\n",
       " '1': 216,\n",
       " 'hour': 217,\n",
       " 'waste': 218,\n",
       " 'john': 219,\n",
       " 'death': 220,\n",
       " 'special': 221,\n",
       " 'talk': 222,\n",
       " 'half': 223,\n",
       " 'wife': 224,\n",
       " 'le': 225,\n",
       " 'open': 226,\n",
       " 'head': 227,\n",
       " 'miss': 228,\n",
       " 'hear': 229,\n",
       " 'fall': 230,\n",
       " 'later': 231,\n",
       " 'short': 232,\n",
       " 'beautiful': 233,\n",
       " 'remember': 234,\n",
       " 'hand': 235,\n",
       " 'fight': 236,\n",
       " 'excellent': 237,\n",
       " 'classic': 238,\n",
       " 'budget': 239,\n",
       " 'father': 240,\n",
       " 'surprise': 241,\n",
       " 'include': 242,\n",
       " 'else': 243,\n",
       " 'top': 244,\n",
       " 'piece': 245,\n",
       " 'change': 246,\n",
       " 'viewer': 247,\n",
       " 'production': 248,\n",
       " 'release': 249,\n",
       " 'poor': 250,\n",
       " '3': 251,\n",
       " 'men': 252,\n",
       " 'completely': 253,\n",
       " 'appear': 254,\n",
       " 'simply': 255,\n",
       " 'couple': 256,\n",
       " 'nice': 257,\n",
       " 'human': 258,\n",
       " 'picture': 259,\n",
       " 'camera': 260,\n",
       " 'home': 261,\n",
       " 'attempt': 262,\n",
       " 'meet': 263,\n",
       " 'along': 264,\n",
       " 'song': 265,\n",
       " 'school': 266,\n",
       " 'entertain': 267,\n",
       " 'feature': 268,\n",
       " 'wrong': 269,\n",
       " 'care': 270,\n",
       " 'word': 271,\n",
       " 'video': 272,\n",
       " 'involve': 273,\n",
       " 'hollywood': 274,\n",
       " 'dead': 275,\n",
       " 'suppose': 276,\n",
       " 'either': 277,\n",
       " 'title': 278,\n",
       " 'lack': 279,\n",
       " 'add': 280,\n",
       " 'rest': 281,\n",
       " 'low': 282,\n",
       " 'next': 283,\n",
       " 'full': 284,\n",
       " 'game': 285,\n",
       " 'stupid': 286,\n",
       " 'save': 287,\n",
       " 'murder': 288,\n",
       " 'truly': 289,\n",
       " 'style': 290,\n",
       " 'writer': 291,\n",
       " 'sex': 292,\n",
       " 'mr': 293,\n",
       " 'awful': 294,\n",
       " 'person': 295,\n",
       " 'decide': 296,\n",
       " 'rat': 297,\n",
       " 'die': 298,\n",
       " 'hope': 299,\n",
       " 'review': 300,\n",
       " 'terrible': 301,\n",
       " 'sort': 302,\n",
       " 'dialogue': 303,\n",
       " 'mother': 304,\n",
       " 'case': 305,\n",
       " 'joke': 306,\n",
       " 'flick': 307,\n",
       " 'base': 308,\n",
       " 'perhaps': 309,\n",
       " 'create': 310,\n",
       " 'wonder': 311,\n",
       " 'light': 312,\n",
       " 'wonderful': 313,\n",
       " 'small': 314,\n",
       " 'perfect': 315,\n",
       " 'sequence': 316,\n",
       " 'others': 317,\n",
       " 'experience': 318,\n",
       " 'age': 319,\n",
       " 'comment': 320,\n",
       " 'definitely': 321,\n",
       " 'close': 322,\n",
       " 'stop': 323,\n",
       " 'guess': 324,\n",
       " 'early': 325,\n",
       " 'art': 326,\n",
       " 'drama': 327,\n",
       " 'sit': 328,\n",
       " 'brother': 329,\n",
       " 'often': 330,\n",
       " 'killer': 331,\n",
       " 'cinema': 332,\n",
       " 'stand': 333,\n",
       " 'actress': 334,\n",
       " 'side': 335,\n",
       " 'consider': 336,\n",
       " 'mention': 337,\n",
       " 'force': 338,\n",
       " 'yes': 339,\n",
       " 'example': 340,\n",
       " 'car': 341,\n",
       " 'quality': 342,\n",
       " 'finally': 343,\n",
       " 'certainly': 344,\n",
       " 'cut': 345,\n",
       " 'oh': 346,\n",
       " 'matter': 347,\n",
       " 'amaze': 348,\n",
       " 'white': 349,\n",
       " 'direction': 350,\n",
       " 'worse': 351,\n",
       " 'hit': 352,\n",
       " 'buy': 353,\n",
       " 'absolutely': 354,\n",
       " 'felt': 355,\n",
       " 'break': 356,\n",
       " 'ask': 357,\n",
       " 'overall': 358,\n",
       " 'son': 359,\n",
       " 'fail': 360,\n",
       " 'deal': 361,\n",
       " 'entire': 362,\n",
       " 'hold': 363,\n",
       " 'voice': 364,\n",
       " 'heart': 365,\n",
       " 'disappoint': 366,\n",
       " '4': 367,\n",
       " 'several': 368,\n",
       " 'spend': 369,\n",
       " '5': 370,\n",
       " 'hero': 371,\n",
       " 'learn': 372,\n",
       " 'evil': 373,\n",
       " 'type': 374,\n",
       " 'totally': 375,\n",
       " 'favorite': 376,\n",
       " 'dark': 377,\n",
       " 'despite': 378,\n",
       " 'speak': 379,\n",
       " 'forget': 380,\n",
       " 'humor': 381,\n",
       " 'wait': 382,\n",
       " 'throughout': 383,\n",
       " 'final': 384,\n",
       " 'genre': 385,\n",
       " 'walk': 386,\n",
       " 'unfortunately': 387,\n",
       " 'b': 388,\n",
       " 'michael': 389,\n",
       " 'dance': 390,\n",
       " 'already': 391,\n",
       " 'relationship': 392,\n",
       " 'history': 393,\n",
       " 'able': 394,\n",
       " 'number': 395,\n",
       " 'god': 396,\n",
       " 'daughter': 397,\n",
       " 'support': 398,\n",
       " 'stuff': 399,\n",
       " 'portray': 400,\n",
       " 'town': 401,\n",
       " 'manage': 402,\n",
       " 'fine': 403,\n",
       " 'throw': 404,\n",
       " 'city': 405,\n",
       " 'today': 406,\n",
       " 'rent': 407,\n",
       " 'credit': 408,\n",
       " 'score': 409,\n",
       " 'present': 410,\n",
       " 'wish': 411,\n",
       " 'power': 412,\n",
       " 'horrible': 413,\n",
       " 'pay': 414,\n",
       " 'touch': 415,\n",
       " 'group': 416,\n",
       " 'twist': 417,\n",
       " 'question': 418,\n",
       " 'talent': 419,\n",
       " 'robert': 420,\n",
       " 'past': 421,\n",
       " 'deserve': 422,\n",
       " 'please': 423,\n",
       " 'brilliant': 424,\n",
       " 'event': 425,\n",
       " 'theme': 426,\n",
       " 'stay': 427,\n",
       " 'level': 428,\n",
       " 'behind': 429,\n",
       " 'etc': 430,\n",
       " 'build': 431,\n",
       " 'situation': 432,\n",
       " 'catch': 433,\n",
       " 'chance': 434,\n",
       " 'body': 435,\n",
       " 'drive': 436,\n",
       " 'blood': 437,\n",
       " 'realize': 438,\n",
       " 'decent': 439,\n",
       " 'return': 440,\n",
       " 'soon': 441,\n",
       " 'late': 442,\n",
       " 'obviously': 443,\n",
       " 'annoy': 444,\n",
       " 'order': 445,\n",
       " 'complete': 446,\n",
       " 'self': 447,\n",
       " 'slow': 448,\n",
       " 'pace': 449,\n",
       " 'edit': 450,\n",
       " 'sometimes': 451,\n",
       " 'grow': 452,\n",
       " 'highly': 453,\n",
       " 'anyway': 454,\n",
       " 'except': 455,\n",
       " 'pick': 456,\n",
       " 'figure': 457,\n",
       " 'monster': 458,\n",
       " 'country': 459,\n",
       " 'element': 460,\n",
       " 'documentary': 461,\n",
       " 'career': 462,\n",
       " 'strong': 463,\n",
       " 'novel': 464,\n",
       " 'jam': 465,\n",
       " 'husband': 466,\n",
       " 'state': 467,\n",
       " 'dream': 468,\n",
       " 'violence': 469,\n",
       " 'extremely': 470,\n",
       " 'sister': 471,\n",
       " 'particularly': 472,\n",
       " 'police': 473,\n",
       " 'effort': 474,\n",
       " 'david': 475,\n",
       " 'gore': 476,\n",
       " 'cause': 477,\n",
       " 'opinion': 478,\n",
       " 'cool': 479,\n",
       " 'reality': 480,\n",
       " 'hell': 481,\n",
       " 'deliver': 482,\n",
       " 'sing': 483,\n",
       " 'simple': 484,\n",
       " 'ok': 485,\n",
       " 'crap': 486,\n",
       " 'hilarious': 487,\n",
       " 'theater': 488,\n",
       " 'cop': 489,\n",
       " 'offer': 490,\n",
       " 'allow': 491,\n",
       " 'result': 492,\n",
       " 'team': 493,\n",
       " 'room': 494,\n",
       " 'draw': 495,\n",
       " 'lady': 496,\n",
       " 'explain': 497,\n",
       " 'serious': 498,\n",
       " 'sequel': 499,\n",
       " 'spoiler': 500,\n",
       " 'ago': 501,\n",
       " 'thriller': 502,\n",
       " 'value': 503,\n",
       " 'english': 504,\n",
       " 'across': 505,\n",
       " 'class': 506,\n",
       " 'dog': 507,\n",
       " 'obvious': 508,\n",
       " 'female': 509,\n",
       " 'none': 510,\n",
       " 'musical': 511,\n",
       " 'note': 512,\n",
       " 'check': 513,\n",
       " 'provide': 514,\n",
       " 'seriously': 515,\n",
       " 'sad': 516,\n",
       " 'shock': 517,\n",
       " 'cinematography': 518,\n",
       " 'stick': 519,\n",
       " 'usually': 520,\n",
       " 'rock': 521,\n",
       " 'alone': 522,\n",
       " 'compare': 523,\n",
       " 'possible': 524,\n",
       " 'convince': 525,\n",
       " 'four': 526,\n",
       " 'zombie': 527,\n",
       " 'exactly': 528,\n",
       " 'comic': 529,\n",
       " 'huge': 530,\n",
       " 'dialog': 531,\n",
       " 'subject': 532,\n",
       " 'middle': 533,\n",
       " 'cover': 534,\n",
       " 'focus': 535,\n",
       " '80': 536,\n",
       " 'tale': 537,\n",
       " 'steal': 538,\n",
       " 'win': 539,\n",
       " 'local': 540,\n",
       " 'ridiculous': 541,\n",
       " 'scary': 542,\n",
       " 'jack': 543,\n",
       " 'produce': 544,\n",
       " 'important': 545,\n",
       " 'avoid': 546,\n",
       " 'major': 547,\n",
       " 'producer': 548,\n",
       " 'beyond': 549,\n",
       " 'pull': 550,\n",
       " 'silly': 551,\n",
       " 'whose': 552,\n",
       " 'attention': 553,\n",
       " 'train': 554,\n",
       " 'non': 555,\n",
       " 'mostly': 556,\n",
       " 'happy': 557,\n",
       " 'form': 558,\n",
       " 'message': 559,\n",
       " 'usual': 560,\n",
       " 'upon': 561,\n",
       " 'oscar': 562,\n",
       " 'hate': 563,\n",
       " 'modern': 564,\n",
       " 'earth': 565,\n",
       " 'television': 566,\n",
       " 'somewhat': 567,\n",
       " 'detail': 568,\n",
       " 'cheap': 569,\n",
       " 'thank': 570,\n",
       " 'drug': 571,\n",
       " 'image': 572,\n",
       " 'due': 573,\n",
       " 'single': 574,\n",
       " 'clearly': 575,\n",
       " 'street': 576,\n",
       " 'parent': 577,\n",
       " 'escape': 578,\n",
       " 'clich': 579,\n",
       " 'apparently': 580,\n",
       " 'season': 581,\n",
       " '7': 582,\n",
       " 'fill': 583,\n",
       " 'basically': 584,\n",
       " 'king': 585,\n",
       " 'western': 586,\n",
       " 'george': 587,\n",
       " 'gun': 588,\n",
       " 'imagine': 589,\n",
       " 'member': 590,\n",
       " 'space': 591,\n",
       " 'remain': 592,\n",
       " 'marry': 593,\n",
       " 'mystery': 594,\n",
       " 'charm': 595,\n",
       " 'fire': 596,\n",
       " 'doubt': 597,\n",
       " 'strange': 598,\n",
       " 'wear': 599,\n",
       " 'british': 600,\n",
       " 'crime': 601,\n",
       " 'fast': 602,\n",
       " 'near': 603,\n",
       " 'fit': 604,\n",
       " 'discover': 605,\n",
       " 'filmmaker': 606,\n",
       " 'ten': 607,\n",
       " 'entertainment': 608,\n",
       " 'five': 609,\n",
       " 'french': 610,\n",
       " 'develop': 611,\n",
       " 'capture': 612,\n",
       " 'future': 613,\n",
       " 'air': 614,\n",
       " 'peter': 615,\n",
       " 'villain': 616,\n",
       " 'clear': 617,\n",
       " 'plan': 618,\n",
       " 'chase': 619,\n",
       " '8': 620,\n",
       " 'straight': 621,\n",
       " 'send': 622,\n",
       " 'enjoyable': 623,\n",
       " 'soundtrack': 624,\n",
       " 'predictable': 625,\n",
       " 'date': 626,\n",
       " 'mark': 627,\n",
       " 'easily': 628,\n",
       " 'match': 629,\n",
       " 'whether': 630,\n",
       " 'box': 631,\n",
       " 'romantic': 632,\n",
       " 'carry': 633,\n",
       " 'remind': 634,\n",
       " 'e': 635,\n",
       " 'soldier': 636,\n",
       " 'aspect': 637,\n",
       " 'battle': 638,\n",
       " 'similar': 639,\n",
       " 'adult': 640,\n",
       " 'within': 641,\n",
       " 'doctor': 642,\n",
       " 'copy': 643,\n",
       " 'bill': 644,\n",
       " 'attack': 645,\n",
       " 'certain': 646,\n",
       " 'agree': 647,\n",
       " 'confuse': 648,\n",
       " 'student': 649,\n",
       " 'dull': 650,\n",
       " 'sorry': 651,\n",
       " 'suspense': 652,\n",
       " 'easy': 653,\n",
       " 'bunch': 654,\n",
       " 'storyline': 655,\n",
       " 'general': 656,\n",
       " 'emotion': 657,\n",
       " '9': 658,\n",
       " 'suck': 659,\n",
       " 'standard': 660,\n",
       " 'finish': 661,\n",
       " 'choose': 662,\n",
       " 'victim': 663,\n",
       " 'bear': 664,\n",
       " 'list': 665,\n",
       " 'tom': 666,\n",
       " 'period': 667,\n",
       " 'nearly': 668,\n",
       " 'among': 669,\n",
       " 'alien': 670,\n",
       " 'material': 671,\n",
       " 'mess': 672,\n",
       " 'typical': 673,\n",
       " 'water': 674,\n",
       " 'cry': 675,\n",
       " 'greatest': 676,\n",
       " 'paul': 677,\n",
       " 'dr': 678,\n",
       " 'richard': 679,\n",
       " 'eat': 680,\n",
       " 'issue': 681,\n",
       " 'notice': 682,\n",
       " 'fantastic': 683,\n",
       " 'beat': 684,\n",
       " 'okay': 685,\n",
       " 'realistic': 686,\n",
       " 'blow': 687,\n",
       " '20': 688,\n",
       " 'reveal': 689,\n",
       " 'romance': 690,\n",
       " 'actual': 691,\n",
       " 'somehow': 692,\n",
       " 'contain': 693,\n",
       " 'trouble': 694,\n",
       " 'fly': 695,\n",
       " 'famous': 696,\n",
       " 'suffer': 697,\n",
       " 'animation': 698,\n",
       " 'free': 699,\n",
       " 'continue': 700,\n",
       " 'cartoon': 701,\n",
       " 'red': 702,\n",
       " 'believable': 703,\n",
       " 'hide': 704,\n",
       " 'masterpiece': 705,\n",
       " 'premise': 706,\n",
       " 'excite': 707,\n",
       " 'appreciate': 708,\n",
       " 'imdb': 709,\n",
       " 'baby': 710,\n",
       " 'describe': 711,\n",
       " 'weak': 712,\n",
       " 'deep': 713,\n",
       " 'party': 714,\n",
       " 'male': 715,\n",
       " 'truth': 716,\n",
       " 'vampire': 717,\n",
       " 'average': 718,\n",
       " 'forward': 719,\n",
       " 'mix': 720,\n",
       " 'york': 721,\n",
       " 'lee': 722,\n",
       " 'third': 723,\n",
       " 'german': 724,\n",
       " 'bother': 725,\n",
       " 'stage': 726,\n",
       " 'crew': 727,\n",
       " 'america': 728,\n",
       " 'society': 729,\n",
       " 'warn': 730,\n",
       " 'gay': 731,\n",
       " 'indeed': 732,\n",
       " 'atmosphere': 733,\n",
       " 'background': 734,\n",
       " 'shame': 735,\n",
       " 'poorly': 736,\n",
       " 'fi': 737,\n",
       " 'eventually': 738,\n",
       " 'de': 739,\n",
       " 'remake': 740,\n",
       " 'leaf': 741,\n",
       " 'drink': 742,\n",
       " '70': 743,\n",
       " 'fear': 744,\n",
       " 'choice': 745,\n",
       " 'sexual': 746,\n",
       " 'sci': 747,\n",
       " 'spirit': 748,\n",
       " 'adventure': 749,\n",
       " 'whatever': 750,\n",
       " 'treat': 751,\n",
       " 'lame': 752,\n",
       " 'wood': 753,\n",
       " 'rise': 754,\n",
       " 'secret': 755,\n",
       " 'appeal': 756,\n",
       " 'studio': 757,\n",
       " 'mistake': 758,\n",
       " 'island': 759,\n",
       " 'rate': 760,\n",
       " 'accent': 761,\n",
       " 'screenplay': 762,\n",
       " 'admit': 763,\n",
       " 'difficult': 764,\n",
       " 'particular': 765,\n",
       " 'hot': 766,\n",
       " 'girlfriend': 767,\n",
       " 'unless': 768,\n",
       " 'week': 769,\n",
       " 'lie': 770,\n",
       " 'footage': 771,\n",
       " 'project': 772,\n",
       " 'emotional': 773,\n",
       " 'lover': 774,\n",
       " 'memorable': 775,\n",
       " 'struggle': 776,\n",
       " 'otherwise': 777,\n",
       " 'award': 778,\n",
       " 'flaw': 779,\n",
       " 'location': 780,\n",
       " 'nature': 781,\n",
       " '30': 782,\n",
       " 'beauty': 783,\n",
       " 'control': 784,\n",
       " 'possibly': 785,\n",
       " 'respect': 786,\n",
       " 'quickly': 787,\n",
       " 'japanese': 788,\n",
       " 'cheesy': 789,\n",
       " 'badly': 790,\n",
       " 'plus': 791,\n",
       " 'superb': 792,\n",
       " 'suggest': 793,\n",
       " 'costume': 794,\n",
       " 'personal': 795,\n",
       " 'rich': 796,\n",
       " 'total': 797,\n",
       " 'fantasy': 798,\n",
       " 'tear': 799,\n",
       " 'master': 800,\n",
       " 'jump': 801,\n",
       " 'perfectly': 802,\n",
       " 'development': 803,\n",
       " 'brain': 804,\n",
       " 'maker': 805,\n",
       " 'animal': 806,\n",
       " 'land': 807,\n",
       " 'front': 808,\n",
       " 'previous': 809,\n",
       " 'earlier': 810,\n",
       " 'towards': 811,\n",
       " '90': 812,\n",
       " 'disney': 813,\n",
       " 'scream': 814,\n",
       " 'inside': 815,\n",
       " 'roll': 816,\n",
       " 'teen': 817,\n",
       " 'crazy': 818,\n",
       " 'answer': 819,\n",
       " 'band': 820,\n",
       " 'incredibly': 821,\n",
       " 'weird': 822,\n",
       " 'term': 823,\n",
       " 'hop': 824,\n",
       " 'powerful': 825,\n",
       " 'promise': 826,\n",
       " 'cat': 827,\n",
       " 'unique': 828,\n",
       " 'company': 829,\n",
       " 'post': 830,\n",
       " 'dress': 831,\n",
       " 'ride': 832,\n",
       " 'older': 833,\n",
       " 'color': 834,\n",
       " 'amount': 835,\n",
       " 'store': 836,\n",
       " 'era': 837,\n",
       " 'joe': 838,\n",
       " 'dumb': 839,\n",
       " 'business': 840,\n",
       " 'amuse': 841,\n",
       " 'rip': 842,\n",
       " 'track': 843,\n",
       " 'disturb': 844,\n",
       " 'century': 845,\n",
       " 'creepy': 846,\n",
       " 'italian': 847,\n",
       " 'apart': 848,\n",
       " 'plenty': 849,\n",
       " 'dramatic': 850,\n",
       " 'law': 851,\n",
       " 'political': 852,\n",
       " 'wind': 853,\n",
       " 'success': 854,\n",
       " 'hat': 855,\n",
       " 'blue': 856,\n",
       " 'sell': 857,\n",
       " 'kick': 858,\n",
       " 'c': 859,\n",
       " 'various': 860,\n",
       " 'v': 861,\n",
       " 'outside': 862,\n",
       " 'memory': 863,\n",
       " 'portrayal': 864,\n",
       " 'record': 865,\n",
       " 'player': 866,\n",
       " 'creature': 867,\n",
       " 'concern': 868,\n",
       " 'perform': 869,\n",
       " 'co': 870,\n",
       " 'la': 871,\n",
       " 'office': 872,\n",
       " 'hole': 873,\n",
       " 'fairly': 874,\n",
       " 'exist': 875,\n",
       " 'sleep': 876,\n",
       " 'culture': 877,\n",
       " 'accept': 878,\n",
       " 'william': 879,\n",
       " 'design': 880,\n",
       " 'plain': 881,\n",
       " '50': 882,\n",
       " 'ability': 883,\n",
       " 'cute': 884,\n",
       " 'public': 885,\n",
       " 'recently': 886,\n",
       " 'talented': 887,\n",
       " 'concept': 888,\n",
       " 'channel': 889,\n",
       " 'step': 890,\n",
       " 'prove': 891,\n",
       " 'odd': 892,\n",
       " 'depth': 893,\n",
       " '6': 894,\n",
       " 'tension': 895,\n",
       " 'burn': 896,\n",
       " 'door': 897,\n",
       " 'unlike': 898,\n",
       " 'appearance': 899,\n",
       " 'soul': 900,\n",
       " 'large': 901,\n",
       " 'listen': 902,\n",
       " 'park': 903,\n",
       " 'hardly': 904,\n",
       " 'spot': 905,\n",
       " 'travel': 906,\n",
       " 'flat': 907,\n",
       " 'cold': 908,\n",
       " 'scott': 909,\n",
       " 'ghost': 910,\n",
       " 'visual': 911,\n",
       " 'language': 912,\n",
       " 'inspire': 913,\n",
       " 'clever': 914,\n",
       " 'science': 915,\n",
       " 'potential': 916,\n",
       " 'fake': 917,\n",
       " 'claim': 918,\n",
       " 'destroy': 919,\n",
       " 'indian': 920,\n",
       " 'popular': 921,\n",
       " 'pop': 922,\n",
       " 'nudity': 923,\n",
       " 'camp': 924,\n",
       " 'tone': 925,\n",
       " 'sweet': 926,\n",
       " 'share': 927,\n",
       " 'introduce': 928,\n",
       " 'million': 929,\n",
       " 'race': 930,\n",
       " 'reach': 931,\n",
       " 'trash': 932,\n",
       " 'purpose': 933,\n",
       " 'cross': 934,\n",
       " 'extra': 935,\n",
       " 'incredible': 936,\n",
       " 'search': 937,\n",
       " 'sadly': 938,\n",
       " 'gang': 939,\n",
       " '15': 940,\n",
       " 'ring': 941,\n",
       " 'pure': 942,\n",
       " 'engage': 943,\n",
       " 'critic': 944,\n",
       " 'anti': 945,\n",
       " 'taste': 946,\n",
       " 'college': 947,\n",
       " 'hair': 948,\n",
       " 'slightly': 949,\n",
       " 'relate': 950,\n",
       " 'intrigue': 951,\n",
       " 'drag': 952,\n",
       " 'approach': 953,\n",
       " 'entirely': 954,\n",
       " 'van': 955,\n",
       " 'familiar': 956,\n",
       " 'judge': 957,\n",
       " 'trip': 958,\n",
       " 'ruin': 959,\n",
       " 'neither': 960,\n",
       " 'count': 961,\n",
       " 'ship': 962,\n",
       " 'jane': 963,\n",
       " 'basic': 964,\n",
       " 'belief': 965,\n",
       " 'intelligent': 966,\n",
       " 'suit': 967,\n",
       " 'edge': 968,\n",
       " 'common': 969,\n",
       " 'us': 970,\n",
       " 'drop': 971,\n",
       " 'hurt': 972,\n",
       " 'receive': 973,\n",
       " 'biggest': 974,\n",
       " 'clothe': 975,\n",
       " 'social': 976,\n",
       " 'mad': 977,\n",
       " 'strike': 978,\n",
       " 'christmas': 979,\n",
       " 'adaptation': 980,\n",
       " 'survive': 981,\n",
       " 'fiction': 982,\n",
       " 'paint': 983,\n",
       " 'younger': 984,\n",
       " 'sick': 985,\n",
       " 'positive': 986,\n",
       " 'road': 987,\n",
       " 'yeah': 988,\n",
       " 'intend': 989,\n",
       " 'pathetic': 990,\n",
       " 'slasher': 991,\n",
       " 'genius': 992,\n",
       " 'former': 993,\n",
       " 'suddenly': 994,\n",
       " 'pass': 995,\n",
       " 'hang': 996,\n",
       " 'ben': 997,\n",
       " 'violent': 998,\n",
       " 'fashion': 999,\n",
       " 'handle': 1000,\n",
       " ...}"
      ]
     },
     "execution_count": 38,
     "metadata": {},
     "output_type": "execute_result"
    }
   ],
   "source": [
    "top_words"
   ]
  },
  {
   "cell_type": "code",
   "execution_count": 41,
   "metadata": {},
   "outputs": [
    {
     "data": {
      "text/plain": [
       "array([[0.        , 0.        , 0.        , ..., 0.        , 0.        ,\n",
       "        0.        ],\n",
       "       [0.        , 0.        , 0.        , ..., 0.        , 0.        ,\n",
       "        0.        ],\n",
       "       [0.38251001, 0.14821   , 0.60601002, ..., 0.058921  , 0.091112  ,\n",
       "        0.47283   ],\n",
       "       ...,\n",
       "       [0.        , 0.        , 0.        , ..., 0.        , 0.        ,\n",
       "        0.        ],\n",
       "       [0.        , 0.        , 0.        , ..., 0.        , 0.        ,\n",
       "        0.        ],\n",
       "       [0.        , 0.        , 0.        , ..., 0.        , 0.        ,\n",
       "        0.        ]])"
      ]
     },
     "execution_count": 41,
     "metadata": {},
     "output_type": "execute_result"
    }
   ],
   "source": [
    "embedding_matrix"
   ]
  },
  {
   "cell_type": "code",
   "execution_count": 42,
   "metadata": {},
   "outputs": [
    {
     "data": {
      "text/plain": [
       "(50000, 100)"
      ]
     },
     "execution_count": 42,
     "metadata": {},
     "output_type": "execute_result"
    }
   ],
   "source": [
    "embedding_matrix.shape\n",
    "# so each unique word has been represented as a 100 dimensional vector , using pre traning GloVe embeddings"
   ]
  },
  {
   "cell_type": "code",
   "execution_count": 43,
   "metadata": {},
   "outputs": [],
   "source": [
    "import tensorflow as tf\n",
    "from tensorflow import keras \n",
    "from keras import Sequential\n",
    "from keras.layers import Dense\n",
    "from keras.layers import LSTM, Embedding,BatchNormalization, Dropout\n",
    "from keras.optimizers import Adam"
   ]
  },
  {
   "cell_type": "code",
   "execution_count": 44,
   "metadata": {},
   "outputs": [],
   "source": [
    "vocab_size = min(len(tokenizer.word_index) + 1, tokenizer.num_words)\n",
    "embedding_dim = 100\n",
    "input_length = maxlen  # maxlen is the max number of words in a document which we set to 120 before padding \n",
    "                       # embedding_dim is the number of dimensions in which a single words is being represented i.e the numner of input nodes in \n",
    "                       # your architecture"
   ]
  },
  {
   "cell_type": "code",
   "execution_count": 45,
   "metadata": {},
   "outputs": [
    {
     "name": "stderr",
     "output_type": "stream",
     "text": [
      "C:\\IIT B\\Python Virtual Env\\myenv\\Lib\\site-packages\\keras\\src\\layers\\core\\embedding.py:90: UserWarning: Argument `input_length` is deprecated. Just remove it.\n",
      "  warnings.warn(\n",
      "C:\\IIT B\\Python Virtual Env\\myenv\\Lib\\site-packages\\keras\\src\\layers\\rnn\\rnn.py:204: UserWarning: Do not pass an `input_shape`/`input_dim` argument to a layer. When using Sequential models, prefer using an `Input(shape)` object as the first layer in the model instead.\n",
      "  super().__init__(**kwargs)\n"
     ]
    }
   ],
   "source": [
    "model=Sequential()\n",
    "\n",
    "model.add(Embedding(input_dim=vocab_size, # vocab size\n",
    "                    output_dim=embedding_dim, # dim of word vectors post embedding \n",
    "                    weights=[embedding_matrix], # pre tranied embedding matrix\n",
    "                    input_length=maxlen, # this is the length of the words in a given document , we set this before padding, currently its 120\n",
    "                    trainable=False))\n",
    "\n",
    "\n",
    "model.add(LSTM(128,return_sequences=True,input_shape=(maxlen,embedding_dim)))\n",
    "model.add(LSTM(64))\n",
    "\n",
    "\n",
    "model.add(Dense(64,activation='relu'))\n",
    "model.add(Dropout(0.2))\n",
    "\n",
    "\n",
    "model.add(Dense(1, activation='sigmoid'))"
   ]
  },
  {
   "cell_type": "code",
   "execution_count": 46,
   "metadata": {},
   "outputs": [
    {
     "data": {
      "text/html": [
       "<pre style=\"white-space:pre;overflow-x:auto;line-height:normal;font-family:Menlo,'DejaVu Sans Mono',consolas,'Courier New',monospace\"><span style=\"font-weight: bold\">Model: \"sequential\"</span>\n",
       "</pre>\n"
      ],
      "text/plain": [
       "\u001b[1mModel: \"sequential\"\u001b[0m\n"
      ]
     },
     "metadata": {},
     "output_type": "display_data"
    },
    {
     "data": {
      "text/html": [
       "<pre style=\"white-space:pre;overflow-x:auto;line-height:normal;font-family:Menlo,'DejaVu Sans Mono',consolas,'Courier New',monospace\">┏━━━━━━━━━━━━━━━━━━━━━━━━━━━━━━━━━━━━━━┳━━━━━━━━━━━━━━━━━━━━━━━━━━━━━┳━━━━━━━━━━━━━━━━━┓\n",
       "┃<span style=\"font-weight: bold\"> Layer (type)                         </span>┃<span style=\"font-weight: bold\"> Output Shape                </span>┃<span style=\"font-weight: bold\">         Param # </span>┃\n",
       "┡━━━━━━━━━━━━━━━━━━━━━━━━━━━━━━━━━━━━━━╇━━━━━━━━━━━━━━━━━━━━━━━━━━━━━╇━━━━━━━━━━━━━━━━━┩\n",
       "│ embedding (<span style=\"color: #0087ff; text-decoration-color: #0087ff\">Embedding</span>)                │ (<span style=\"color: #00af00; text-decoration-color: #00af00\">120</span>, <span style=\"color: #00af00; text-decoration-color: #00af00\">100</span>, <span style=\"color: #00af00; text-decoration-color: #00af00\">100</span>)             │       <span style=\"color: #00af00; text-decoration-color: #00af00\">5,000,000</span> │\n",
       "├──────────────────────────────────────┼─────────────────────────────┼─────────────────┤\n",
       "│ lstm (<span style=\"color: #0087ff; text-decoration-color: #0087ff\">LSTM</span>)                          │ (<span style=\"color: #00af00; text-decoration-color: #00af00\">120</span>, <span style=\"color: #00af00; text-decoration-color: #00af00\">100</span>, <span style=\"color: #00af00; text-decoration-color: #00af00\">128</span>)             │         <span style=\"color: #00af00; text-decoration-color: #00af00\">117,248</span> │\n",
       "├──────────────────────────────────────┼─────────────────────────────┼─────────────────┤\n",
       "│ lstm_1 (<span style=\"color: #0087ff; text-decoration-color: #0087ff\">LSTM</span>)                        │ (<span style=\"color: #00af00; text-decoration-color: #00af00\">120</span>, <span style=\"color: #00af00; text-decoration-color: #00af00\">64</span>)                   │          <span style=\"color: #00af00; text-decoration-color: #00af00\">49,408</span> │\n",
       "├──────────────────────────────────────┼─────────────────────────────┼─────────────────┤\n",
       "│ dense (<span style=\"color: #0087ff; text-decoration-color: #0087ff\">Dense</span>)                        │ (<span style=\"color: #00af00; text-decoration-color: #00af00\">120</span>, <span style=\"color: #00af00; text-decoration-color: #00af00\">64</span>)                   │           <span style=\"color: #00af00; text-decoration-color: #00af00\">4,160</span> │\n",
       "├──────────────────────────────────────┼─────────────────────────────┼─────────────────┤\n",
       "│ dropout (<span style=\"color: #0087ff; text-decoration-color: #0087ff\">Dropout</span>)                    │ (<span style=\"color: #00af00; text-decoration-color: #00af00\">120</span>, <span style=\"color: #00af00; text-decoration-color: #00af00\">64</span>)                   │               <span style=\"color: #00af00; text-decoration-color: #00af00\">0</span> │\n",
       "├──────────────────────────────────────┼─────────────────────────────┼─────────────────┤\n",
       "│ dense_1 (<span style=\"color: #0087ff; text-decoration-color: #0087ff\">Dense</span>)                      │ (<span style=\"color: #00af00; text-decoration-color: #00af00\">120</span>, <span style=\"color: #00af00; text-decoration-color: #00af00\">1</span>)                    │              <span style=\"color: #00af00; text-decoration-color: #00af00\">65</span> │\n",
       "└──────────────────────────────────────┴─────────────────────────────┴─────────────────┘\n",
       "</pre>\n"
      ],
      "text/plain": [
       "┏━━━━━━━━━━━━━━━━━━━━━━━━━━━━━━━━━━━━━━┳━━━━━━━━━━━━━━━━━━━━━━━━━━━━━┳━━━━━━━━━━━━━━━━━┓\n",
       "┃\u001b[1m \u001b[0m\u001b[1mLayer (type)                        \u001b[0m\u001b[1m \u001b[0m┃\u001b[1m \u001b[0m\u001b[1mOutput Shape               \u001b[0m\u001b[1m \u001b[0m┃\u001b[1m \u001b[0m\u001b[1m        Param #\u001b[0m\u001b[1m \u001b[0m┃\n",
       "┡━━━━━━━━━━━━━━━━━━━━━━━━━━━━━━━━━━━━━━╇━━━━━━━━━━━━━━━━━━━━━━━━━━━━━╇━━━━━━━━━━━━━━━━━┩\n",
       "│ embedding (\u001b[38;5;33mEmbedding\u001b[0m)                │ (\u001b[38;5;34m120\u001b[0m, \u001b[38;5;34m100\u001b[0m, \u001b[38;5;34m100\u001b[0m)             │       \u001b[38;5;34m5,000,000\u001b[0m │\n",
       "├──────────────────────────────────────┼─────────────────────────────┼─────────────────┤\n",
       "│ lstm (\u001b[38;5;33mLSTM\u001b[0m)                          │ (\u001b[38;5;34m120\u001b[0m, \u001b[38;5;34m100\u001b[0m, \u001b[38;5;34m128\u001b[0m)             │         \u001b[38;5;34m117,248\u001b[0m │\n",
       "├──────────────────────────────────────┼─────────────────────────────┼─────────────────┤\n",
       "│ lstm_1 (\u001b[38;5;33mLSTM\u001b[0m)                        │ (\u001b[38;5;34m120\u001b[0m, \u001b[38;5;34m64\u001b[0m)                   │          \u001b[38;5;34m49,408\u001b[0m │\n",
       "├──────────────────────────────────────┼─────────────────────────────┼─────────────────┤\n",
       "│ dense (\u001b[38;5;33mDense\u001b[0m)                        │ (\u001b[38;5;34m120\u001b[0m, \u001b[38;5;34m64\u001b[0m)                   │           \u001b[38;5;34m4,160\u001b[0m │\n",
       "├──────────────────────────────────────┼─────────────────────────────┼─────────────────┤\n",
       "│ dropout (\u001b[38;5;33mDropout\u001b[0m)                    │ (\u001b[38;5;34m120\u001b[0m, \u001b[38;5;34m64\u001b[0m)                   │               \u001b[38;5;34m0\u001b[0m │\n",
       "├──────────────────────────────────────┼─────────────────────────────┼─────────────────┤\n",
       "│ dense_1 (\u001b[38;5;33mDense\u001b[0m)                      │ (\u001b[38;5;34m120\u001b[0m, \u001b[38;5;34m1\u001b[0m)                    │              \u001b[38;5;34m65\u001b[0m │\n",
       "└──────────────────────────────────────┴─────────────────────────────┴─────────────────┘\n"
      ]
     },
     "metadata": {},
     "output_type": "display_data"
    },
    {
     "data": {
      "text/html": [
       "<pre style=\"white-space:pre;overflow-x:auto;line-height:normal;font-family:Menlo,'DejaVu Sans Mono',consolas,'Courier New',monospace\"><span style=\"font-weight: bold\"> Total params: </span><span style=\"color: #00af00; text-decoration-color: #00af00\">5,170,881</span> (19.73 MB)\n",
       "</pre>\n"
      ],
      "text/plain": [
       "\u001b[1m Total params: \u001b[0m\u001b[38;5;34m5,170,881\u001b[0m (19.73 MB)\n"
      ]
     },
     "metadata": {},
     "output_type": "display_data"
    },
    {
     "data": {
      "text/html": [
       "<pre style=\"white-space:pre;overflow-x:auto;line-height:normal;font-family:Menlo,'DejaVu Sans Mono',consolas,'Courier New',monospace\"><span style=\"font-weight: bold\"> Trainable params: </span><span style=\"color: #00af00; text-decoration-color: #00af00\">170,881</span> (667.50 KB)\n",
       "</pre>\n"
      ],
      "text/plain": [
       "\u001b[1m Trainable params: \u001b[0m\u001b[38;5;34m170,881\u001b[0m (667.50 KB)\n"
      ]
     },
     "metadata": {},
     "output_type": "display_data"
    },
    {
     "data": {
      "text/html": [
       "<pre style=\"white-space:pre;overflow-x:auto;line-height:normal;font-family:Menlo,'DejaVu Sans Mono',consolas,'Courier New',monospace\"><span style=\"font-weight: bold\"> Non-trainable params: </span><span style=\"color: #00af00; text-decoration-color: #00af00\">5,000,000</span> (19.07 MB)\n",
       "</pre>\n"
      ],
      "text/plain": [
       "\u001b[1m Non-trainable params: \u001b[0m\u001b[38;5;34m5,000,000\u001b[0m (19.07 MB)\n"
      ]
     },
     "metadata": {},
     "output_type": "display_data"
    }
   ],
   "source": [
    "model.build(input_shape=(maxlen,embedding_dim))\n",
    "model.summary()"
   ]
  },
  {
   "cell_type": "code",
   "execution_count": 47,
   "metadata": {},
   "outputs": [],
   "source": [
    "from tensorflow.keras.callbacks import EarlyStopping\n",
    "es=EarlyStopping(monitor='val_accuracy',min_delta=0.001,restore_best_weights=True,patience=20,verbose=1)"
   ]
  },
  {
   "cell_type": "code",
   "execution_count": 48,
   "metadata": {},
   "outputs": [],
   "source": [
    "# Cool we have 9.2M non-trainable parameters\n",
    "model.compile(optimizer='adam', loss='binary_crossentropy', metrics=['accuracy'])"
   ]
  },
  {
   "cell_type": "code",
   "execution_count": 49,
   "metadata": {
    "scrolled": true
   },
   "outputs": [
    {
     "name": "stdout",
     "output_type": "stream",
     "text": [
      "Epoch 1/25\n",
      "\u001b[1m625/625\u001b[0m \u001b[32m━━━━━━━━━━━━━━━━━━━━\u001b[0m\u001b[37m\u001b[0m \u001b[1m141s\u001b[0m 218ms/step - accuracy: 0.6562 - loss: 0.6179 - val_accuracy: 0.5014 - val_loss: 0.6929\n",
      "Epoch 2/25\n",
      "\u001b[1m625/625\u001b[0m \u001b[32m━━━━━━━━━━━━━━━━━━━━\u001b[0m\u001b[37m\u001b[0m \u001b[1m132s\u001b[0m 203ms/step - accuracy: 0.5082 - loss: 0.6929 - val_accuracy: 0.5014 - val_loss: 0.6933\n",
      "Epoch 3/25\n",
      "\u001b[1m625/625\u001b[0m \u001b[32m━━━━━━━━━━━━━━━━━━━━\u001b[0m\u001b[37m\u001b[0m \u001b[1m125s\u001b[0m 200ms/step - accuracy: 0.5163 - loss: 0.6916 - val_accuracy: 0.5325 - val_loss: 0.6891\n",
      "Epoch 4/25\n",
      "\u001b[1m625/625\u001b[0m \u001b[32m━━━━━━━━━━━━━━━━━━━━\u001b[0m\u001b[37m\u001b[0m \u001b[1m127s\u001b[0m 203ms/step - accuracy: 0.7194 - loss: 0.5461 - val_accuracy: 0.8289 - val_loss: 0.3901\n",
      "Epoch 5/25\n",
      "\u001b[1m625/625\u001b[0m \u001b[32m━━━━━━━━━━━━━━━━━━━━\u001b[0m\u001b[37m\u001b[0m \u001b[1m143s\u001b[0m 203ms/step - accuracy: 0.8356 - loss: 0.3737 - val_accuracy: 0.8478 - val_loss: 0.3522\n",
      "Epoch 6/25\n",
      "\u001b[1m625/625\u001b[0m \u001b[32m━━━━━━━━━━━━━━━━━━━━\u001b[0m\u001b[37m\u001b[0m \u001b[1m141s\u001b[0m 201ms/step - accuracy: 0.8517 - loss: 0.3418 - val_accuracy: 0.8434 - val_loss: 0.3545\n",
      "Epoch 7/25\n",
      "\u001b[1m625/625\u001b[0m \u001b[32m━━━━━━━━━━━━━━━━━━━━\u001b[0m\u001b[37m\u001b[0m \u001b[1m126s\u001b[0m 202ms/step - accuracy: 0.8633 - loss: 0.3218 - val_accuracy: 0.8566 - val_loss: 0.3363\n",
      "Epoch 8/25\n",
      "\u001b[1m625/625\u001b[0m \u001b[32m━━━━━━━━━━━━━━━━━━━━\u001b[0m\u001b[37m\u001b[0m \u001b[1m127s\u001b[0m 203ms/step - accuracy: 0.8712 - loss: 0.3004 - val_accuracy: 0.8657 - val_loss: 0.3148\n",
      "Epoch 9/25\n",
      "\u001b[1m625/625\u001b[0m \u001b[32m━━━━━━━━━━━━━━━━━━━━\u001b[0m\u001b[37m\u001b[0m \u001b[1m141s\u001b[0m 202ms/step - accuracy: 0.8793 - loss: 0.2831 - val_accuracy: 0.8623 - val_loss: 0.3204\n",
      "Epoch 10/25\n",
      "\u001b[1m625/625\u001b[0m \u001b[32m━━━━━━━━━━━━━━━━━━━━\u001b[0m\u001b[37m\u001b[0m \u001b[1m129s\u001b[0m 207ms/step - accuracy: 0.8898 - loss: 0.2653 - val_accuracy: 0.8741 - val_loss: 0.2993\n",
      "Epoch 11/25\n",
      "\u001b[1m625/625\u001b[0m \u001b[32m━━━━━━━━━━━━━━━━━━━━\u001b[0m\u001b[37m\u001b[0m \u001b[1m141s\u001b[0m 205ms/step - accuracy: 0.8992 - loss: 0.2430 - val_accuracy: 0.8704 - val_loss: 0.3096\n",
      "Epoch 12/25\n",
      "\u001b[1m625/625\u001b[0m \u001b[32m━━━━━━━━━━━━━━━━━━━━\u001b[0m\u001b[37m\u001b[0m \u001b[1m127s\u001b[0m 203ms/step - accuracy: 0.9093 - loss: 0.2224 - val_accuracy: 0.8710 - val_loss: 0.3328\n",
      "Epoch 13/25\n",
      "\u001b[1m625/625\u001b[0m \u001b[32m━━━━━━━━━━━━━━━━━━━━\u001b[0m\u001b[37m\u001b[0m \u001b[1m128s\u001b[0m 204ms/step - accuracy: 0.9174 - loss: 0.2038 - val_accuracy: 0.8705 - val_loss: 0.3310\n",
      "Epoch 14/25\n",
      "\u001b[1m625/625\u001b[0m \u001b[32m━━━━━━━━━━━━━━━━━━━━\u001b[0m\u001b[37m\u001b[0m \u001b[1m127s\u001b[0m 204ms/step - accuracy: 0.9263 - loss: 0.1889 - val_accuracy: 0.8679 - val_loss: 0.3514\n",
      "Epoch 15/25\n",
      "\u001b[1m625/625\u001b[0m \u001b[32m━━━━━━━━━━━━━━━━━━━━\u001b[0m\u001b[37m\u001b[0m \u001b[1m127s\u001b[0m 203ms/step - accuracy: 0.9378 - loss: 0.1631 - val_accuracy: 0.8679 - val_loss: 0.3734\n",
      "Epoch 16/25\n",
      "\u001b[1m625/625\u001b[0m \u001b[32m━━━━━━━━━━━━━━━━━━━━\u001b[0m\u001b[37m\u001b[0m \u001b[1m129s\u001b[0m 206ms/step - accuracy: 0.9482 - loss: 0.1418 - val_accuracy: 0.8621 - val_loss: 0.3831\n",
      "Epoch 17/25\n",
      "\u001b[1m625/625\u001b[0m \u001b[32m━━━━━━━━━━━━━━━━━━━━\u001b[0m\u001b[37m\u001b[0m \u001b[1m128s\u001b[0m 205ms/step - accuracy: 0.9586 - loss: 0.1174 - val_accuracy: 0.8621 - val_loss: 0.4489\n",
      "Epoch 18/25\n",
      "\u001b[1m625/625\u001b[0m \u001b[32m━━━━━━━━━━━━━━━━━━━━\u001b[0m\u001b[37m\u001b[0m \u001b[1m129s\u001b[0m 206ms/step - accuracy: 0.9631 - loss: 0.1068 - val_accuracy: 0.8593 - val_loss: 0.4436\n",
      "Epoch 19/25\n",
      "\u001b[1m625/625\u001b[0m \u001b[32m━━━━━━━━━━━━━━━━━━━━\u001b[0m\u001b[37m\u001b[0m \u001b[1m127s\u001b[0m 202ms/step - accuracy: 0.9712 - loss: 0.0898 - val_accuracy: 0.8603 - val_loss: 0.4916\n",
      "Epoch 20/25\n",
      "\u001b[1m625/625\u001b[0m \u001b[32m━━━━━━━━━━━━━━━━━━━━\u001b[0m\u001b[37m\u001b[0m \u001b[1m130s\u001b[0m 208ms/step - accuracy: 0.9769 - loss: 0.0713 - val_accuracy: 0.8515 - val_loss: 0.4888\n",
      "Epoch 21/25\n",
      "\u001b[1m625/625\u001b[0m \u001b[32m━━━━━━━━━━━━━━━━━━━━\u001b[0m\u001b[37m\u001b[0m \u001b[1m130s\u001b[0m 208ms/step - accuracy: 0.9788 - loss: 0.0639 - val_accuracy: 0.8583 - val_loss: 0.5153\n",
      "Epoch 22/25\n",
      "\u001b[1m625/625\u001b[0m \u001b[32m━━━━━━━━━━━━━━━━━━━━\u001b[0m\u001b[37m\u001b[0m \u001b[1m130s\u001b[0m 209ms/step - accuracy: 0.9850 - loss: 0.0529 - val_accuracy: 0.8608 - val_loss: 0.5797\n",
      "Epoch 23/25\n",
      "\u001b[1m625/625\u001b[0m \u001b[32m━━━━━━━━━━━━━━━━━━━━\u001b[0m\u001b[37m\u001b[0m \u001b[1m134s\u001b[0m 215ms/step - accuracy: 0.9856 - loss: 0.0462 - val_accuracy: 0.8532 - val_loss: 0.6192\n",
      "Epoch 24/25\n",
      "\u001b[1m625/625\u001b[0m \u001b[32m━━━━━━━━━━━━━━━━━━━━\u001b[0m\u001b[37m\u001b[0m \u001b[1m132s\u001b[0m 211ms/step - accuracy: 0.9875 - loss: 0.0401 - val_accuracy: 0.8564 - val_loss: 0.6840\n",
      "Epoch 25/25\n",
      "\u001b[1m625/625\u001b[0m \u001b[32m━━━━━━━━━━━━━━━━━━━━\u001b[0m\u001b[37m\u001b[0m \u001b[1m131s\u001b[0m 210ms/step - accuracy: 0.9896 - loss: 0.0373 - val_accuracy: 0.8508 - val_loss: 0.7015\n",
      "Restoring model weights from the end of the best epoch: 10.\n"
     ]
    }
   ],
   "source": [
    "history=model.fit(X_train_pad,Y_train,validation_data=(X_test_pad,Y_test),epochs=25,batch_size=64,callbacks=es)"
   ]
  },
  {
   "cell_type": "markdown",
   "metadata": {},
   "source": [
    "# GRAPHS"
   ]
  },
  {
   "cell_type": "markdown",
   "metadata": {},
   "source": [
    "> Loss vs Valdiation loss"
   ]
  },
  {
   "cell_type": "code",
   "execution_count": 50,
   "metadata": {},
   "outputs": [],
   "source": [
    "import matplotlib.pyplot as plt"
   ]
  },
  {
   "cell_type": "code",
   "execution_count": 51,
   "metadata": {},
   "outputs": [
    {
     "data": {
      "text/plain": [
       "<matplotlib.legend.Legend at 0x23daea8bc10>"
      ]
     },
     "execution_count": 51,
     "metadata": {},
     "output_type": "execute_result"
    },
    {
     "data": {
      "image/png": "[encoded data removed]",
      "text/plain": [
       "<Figure size 640x480 with 1 Axes>"
      ]
     },
     "metadata": {},
     "output_type": "display_data"
    }
   ],
   "source": [
    "plt.plot(history.history['loss'],color='r')\n",
    "plt.plot(history.history['val_loss'],color='g')\n",
    "plt.legend(['loss','val_loss'])\n",
    "# the model is not overfitting "
   ]
  },
  {
   "cell_type": "markdown",
   "metadata": {},
   "source": [
    "> Accuracy vs val_accuracy"
   ]
  },
  {
   "cell_type": "code",
   "execution_count": 52,
   "metadata": {},
   "outputs": [
    {
     "data": {
      "text/plain": [
       "<matplotlib.legend.Legend at 0x23daee56290>"
      ]
     },
     "execution_count": 52,
     "metadata": {},
     "output_type": "execute_result"
    },
    {
     "data": {
      "image/png": "[encoded data removed]",
      "text/plain": [
       "<Figure size 640x480 with 1 Axes>"
      ]
     },
     "metadata": {},
     "output_type": "display_data"
    }
   ],
   "source": [
    "plt.plot(history.history['accuracy'],color='r')\n",
    "plt.plot(history.history['val_accuracy'],color='g')\n",
    "plt.legend(['accuracy','val_accuracy'])\n",
    "# the model is not overfitting "
   ]
  },
  {
   "cell_type": "markdown",
   "metadata": {},
   "source": [
    "# ACCURACY OF OUR MODEL"
   ]
  },
  {
   "cell_type": "code",
   "execution_count": 53,
   "metadata": {},
   "outputs": [],
   "source": [
    "from sklearn.metrics import accuracy_score,f1_score,roc_curve, roc_auc_score,auc\n",
    "# let us firstly figure out the threshhold using roc_curve\n",
    "# and then we will move towards other metrics "
   ]
  },
  {
   "cell_type": "code",
   "execution_count": 54,
   "metadata": {},
   "outputs": [
    {
     "name": "stdout",
     "output_type": "stream",
     "text": [
      "\u001b[1m313/313\u001b[0m \u001b[32m━━━━━━━━━━━━━━━━━━━━\u001b[0m\u001b[37m\u001b[0m \u001b[1m17s\u001b[0m 52ms/step\n"
     ]
    }
   ],
   "source": [
    "Y_scores=model.predict(X_test_pad)"
   ]
  },
  {
   "cell_type": "code",
   "execution_count": 55,
   "metadata": {},
   "outputs": [
    {
     "data": {
      "text/plain": [
       "array([0.8330495 , 0.603348  , 0.9919506 , ..., 0.9392355 , 0.00847434,\n",
       "       0.00647633], dtype=float32)"
      ]
     },
     "execution_count": 55,
     "metadata": {},
     "output_type": "execute_result"
    }
   ],
   "source": [
    "Y_scores=Y_scores.reshape(10000,)\n",
    "Y_scores"
   ]
  },
  {
   "cell_type": "code",
   "execution_count": 56,
   "metadata": {},
   "outputs": [],
   "source": [
    "fpr, tpr, thresholds = roc_curve(Y_test, Y_scores)"
   ]
  },
  {
   "cell_type": "code",
   "execution_count": 57,
   "metadata": {},
   "outputs": [
    {
     "data": {
      "text/plain": [
       "array([          inf, 9.9868482e-01, 9.9368411e-01, ..., 2.0190736e-03,\n",
       "       2.0187353e-03, 5.2716903e-04], dtype=float32)"
      ]
     },
     "execution_count": 57,
     "metadata": {},
     "output_type": "execute_result"
    }
   ],
   "source": [
    "thresholds"
   ]
  },
  {
   "cell_type": "code",
   "execution_count": 58,
   "metadata": {},
   "outputs": [
    {
     "data": {
      "text/plain": [
       "array([0.00000000e+00, 2.00561572e-04, 2.00561572e-04, ...,\n",
       "       9.87765744e-01, 9.88166867e-01, 1.00000000e+00])"
      ]
     },
     "execution_count": 58,
     "metadata": {},
     "output_type": "execute_result"
    }
   ],
   "source": [
    "fpr"
   ]
  },
  {
   "cell_type": "code",
   "execution_count": 59,
   "metadata": {},
   "outputs": [
    {
     "data": {
      "text/plain": [
       "array([0.        , 0.        , 0.03530116, ..., 1.        , 1.        ,\n",
       "       1.        ])"
      ]
     },
     "execution_count": 59,
     "metadata": {},
     "output_type": "execute_result"
    }
   ],
   "source": [
    "tpr"
   ]
  },
  {
   "cell_type": "code",
   "execution_count": 60,
   "metadata": {},
   "outputs": [
    {
     "data": {
      "text/plain": [
       "Text(0, 0.5, 'TPR')"
      ]
     },
     "execution_count": 60,
     "metadata": {},
     "output_type": "execute_result"
    },
    {
     "data": {
      "image/png": "[encoded data removed]",
      "text/plain": [
       "<Figure size 640x480 with 1 Axes>"
      ]
     },
     "metadata": {},
     "output_type": "display_data"
    }
   ],
   "source": [
    "plt.plot(fpr,tpr)\n",
    "plt.title('ROC-AUC Curve')\n",
    "plt.xlabel('FPR')\n",
    "plt.ylabel('TPR')"
   ]
  },
  {
   "cell_type": "markdown",
   "metadata": {},
   "source": [
    "#### WE WANT THE THRESHOLD FOR WHICH TPR-FPR CURVE IS CLOSEST TO (0,1) i.e the point where the difference between tpr and fpr is max"
   ]
  },
  {
   "cell_type": "code",
   "execution_count": 61,
   "metadata": {},
   "outputs": [
    {
     "name": "stdout",
     "output_type": "stream",
     "text": [
      "Optimal threshold is: 0.46972537\n"
     ]
    }
   ],
   "source": [
    "optimal_idx = np.argmax(tpr - fpr) # THIS IS THE \n",
    "optimal_threshold = thresholds[optimal_idx]\n",
    "print(\"Optimal threshold is:\", optimal_threshold)"
   ]
  },
  {
   "cell_type": "code",
   "execution_count": 70,
   "metadata": {},
   "outputs": [
    {
     "data": {
      "text/plain": [
       "(1872,)"
      ]
     },
     "execution_count": 70,
     "metadata": {},
     "output_type": "execute_result"
    }
   ],
   "source": [
    "thresholds.shape"
   ]
  },
  {
   "cell_type": "markdown",
   "metadata": {},
   "source": [
    "## AREA UNDER THE ROC-AUC CURVE"
   ]
  },
  {
   "cell_type": "code",
   "execution_count": 71,
   "metadata": {},
   "outputs": [],
   "source": [
    "A=auc(fpr,tpr)\n",
    "# Trpezoidal rule to calculate the area under the curve"
   ]
  },
  {
   "cell_type": "code",
   "execution_count": 63,
   "metadata": {},
   "outputs": [
    {
     "data": {
      "text/plain": [
       "0.945714814404145"
      ]
     },
     "execution_count": 63,
     "metadata": {},
     "output_type": "execute_result"
    }
   ],
   "source": [
    "score=roc_auc_score(Y_test,Y_scores)\n",
    "score"
   ]
  },
  {
   "cell_type": "code",
   "execution_count": 64,
   "metadata": {},
   "outputs": [
    {
     "name": "stdout",
     "output_type": "stream",
     "text": [
      "0.8765\n"
     ]
    }
   ],
   "source": [
    "Y_pred=np.where(Y_scores>=optimal_threshold,1,0)\n",
    "print(accuracy_score(Y_pred,Y_test))"
   ]
  },
  {
   "cell_type": "code",
   "execution_count": 65,
   "metadata": {},
   "outputs": [
    {
     "name": "stdout",
     "output_type": "stream",
     "text": [
      "0.8774193548387097\n"
     ]
    }
   ],
   "source": [
    "print(f1_score(Y_pred,Y_test))"
   ]
  },
  {
   "cell_type": "markdown",
   "metadata": {},
   "source": [
    "## ROC -AUC FOR MULITCLASS CLASSIFICATION BECOMES VERY COMPLEX AND THUS WE DONT USUALLY USE IT THERE , ALSO WE HAVE GOOD METRICS LIKE F1 ETC WHICH ARE SIMPLE TO UNDERSTAND AS WELLL"
   ]
  }
 ],
 "metadata": {
  "kernelspec": {
   "display_name": "Python 3 (ipykernel)",
   "language": "python",
   "name": "python3"
  },
  "language_info": {
   "codemirror_mode": {
    "name": "ipython",
    "version": 3
   },
   "file_extension": ".py",
   "mimetype": "text/x-python",
   "name": "python",
   "nbconvert_exporter": "python",
   "pygments_lexer": "ipython3",
   "version": "3.11.4"
  }
 },
 "nbformat": 4,
 "nbformat_minor": 4
}
